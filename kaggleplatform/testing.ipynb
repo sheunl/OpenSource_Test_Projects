{
 "cells": [
  {
   "cell_type": "markdown",
   "id": "b80eb7bc",
   "metadata": {
    "papermill": {
     "duration": 0.002848,
     "end_time": "2024-11-09T17:35:34.490848",
     "exception": false,
     "start_time": "2024-11-09T17:35:34.488000",
     "status": "completed"
    },
    "tags": []
   },
   "source": [
    "## This is me adding a markdown Section"
   ]
  },
  {
   "cell_type": "code",
   "execution_count": 1,
   "id": "5d68b069",
   "metadata": {
    "_cell_guid": "b1076dfc-b9ad-4769-8c92-a6c4dae69d19",
    "_uuid": "8f2839f25d086af736a60e9eeb907d3b93b6e0e5",
    "execution": {
     "iopub.execute_input": "2024-11-09T17:35:34.497554Z",
     "iopub.status.busy": "2024-11-09T17:35:34.497107Z",
     "iopub.status.idle": "2024-11-09T17:35:35.446372Z",
     "shell.execute_reply": "2024-11-09T17:35:35.444865Z"
    },
    "papermill": {
     "duration": 0.955691,
     "end_time": "2024-11-09T17:35:35.449029",
     "exception": false,
     "start_time": "2024-11-09T17:35:34.493338",
     "status": "completed"
    },
    "tags": []
   },
   "outputs": [
    {
     "name": "stdout",
     "output_type": "stream",
     "text": [
      "/kaggle/input/amazon-fine-food-reviews/hashes.txt\n",
      "/kaggle/input/amazon-fine-food-reviews/Reviews.csv\n",
      "/kaggle/input/amazon-fine-food-reviews/database.sqlite\n"
     ]
    }
   ],
   "source": [
    "# This Python 3 environment comes with many helpful analytics libraries installed\n",
    "# It is defined by the kaggle/python Docker image: https://github.com/kaggle/docker-python\n",
    "# For example, here's several helpful packages to load\n",
    "\n",
    "import numpy as np # linear algebra\n",
    "import pandas as pd # data processing, CSV file I/O (e.g. pd.read_csv)\n",
    "\n",
    "# Input data files are available in the read-only \"../input/\" directory\n",
    "# For example, running this (by clicking run or pressing Shift+Enter) will list all files under the input directory\n",
    "\n",
    "import os\n",
    "for dirname, _, filenames in os.walk('/kaggle/input'):\n",
    "    for filename in filenames:\n",
    "        print(os.path.join(dirname, filename))\n",
    "\n",
    "# You can write up to 20GB to the current directory (/kaggle/working/) that gets preserved as output when you create a version using \"Save & Run All\" \n",
    "# You can also write temporary files to /kaggle/temp/, but they won't be saved outside of the current session"
   ]
  },
  {
   "cell_type": "code",
   "execution_count": null,
   "id": "8df47273",
   "metadata": {
    "papermill": {
     "duration": 0.002172,
     "end_time": "2024-11-09T17:35:35.453753",
     "exception": false,
     "start_time": "2024-11-09T17:35:35.451581",
     "status": "completed"
    },
    "tags": []
   },
   "outputs": [],
   "source": []
  },
  {
   "cell_type": "code",
   "execution_count": null,
   "id": "b7fb0fea",
   "metadata": {
    "papermill": {
     "duration": 0.002047,
     "end_time": "2024-11-09T17:35:35.458082",
     "exception": false,
     "start_time": "2024-11-09T17:35:35.456035",
     "status": "completed"
    },
    "tags": []
   },
   "outputs": [],
   "source": []
  }
 ],
 "metadata": {
  "kaggle": {
   "accelerator": "none",
   "dataSources": [
    {
     "datasetId": 18,
     "sourceId": 2157,
     "sourceType": "datasetVersion"
    }
   ],
   "dockerImageVersionId": 30786,
   "isGpuEnabled": false,
   "isInternetEnabled": false,
   "language": "python",
   "sourceType": "notebook"
  },
  "kernelspec": {
   "display_name": "Python 3",
   "language": "python",
   "name": "python3"
  },
  "language_info": {
   "codemirror_mode": {
    "name": "ipython",
    "version": 3
   },
   "file_extension": ".py",
   "mimetype": "text/x-python",
   "name": "python",
   "nbconvert_exporter": "python",
   "pygments_lexer": "ipython3",
   "version": "3.10.14"
  },
  "papermill": {
   "default_parameters": {},
   "duration": 4.326765,
   "end_time": "2024-11-09T17:35:35.879946",
   "environment_variables": {},
   "exception": null,
   "input_path": "__notebook__.ipynb",
   "output_path": "__notebook__.ipynb",
   "parameters": {},
   "start_time": "2024-11-09T17:35:31.553181",
   "version": "2.6.0"
  }
 },
 "nbformat": 4,
 "nbformat_minor": 5
}
